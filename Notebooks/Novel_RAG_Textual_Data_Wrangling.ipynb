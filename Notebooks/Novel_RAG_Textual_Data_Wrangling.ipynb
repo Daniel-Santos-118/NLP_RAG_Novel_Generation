{
  "nbformat": 4,
  "nbformat_minor": 0,
  "metadata": {
    "colab": {
      "provenance": []
    },
    "kernelspec": {
      "name": "python3",
      "display_name": "Python 3"
    },
    "language_info": {
      "name": "python"
    }
  },
  "cells": [
    {
      "cell_type": "code",
      "source": [
        "pip install PyMuPDF"
      ],
      "metadata": {
        "id": "WadZjyAndnCh"
      },
      "execution_count": null,
      "outputs": []
    },
    {
      "cell_type": "code",
      "execution_count": null,
      "metadata": {
        "id": "ibf0jylMb2i3"
      },
      "outputs": [],
      "source": [
        "import os\n",
        "import fitz  # PyMuPDF\n",
        "from google.colab import drive\n",
        "\n",
        "# Mount Google Drive\n",
        "drive.mount('/content/drive')\n",
        "\n",
        "# Define the folder path\n",
        "folder_path = \"/content/drive/My Drive/Portfolio/Novel_RAG_Project/Data/beginning_processed_pdfs/\"\n",
        "\n",
        "def remove_last_page(pdf_path):\n",
        "    \"\"\"Removes the last page of a given PDF and saves it as a new file before replacing the original.\"\"\"\n",
        "    try:\n",
        "        doc = fitz.open(pdf_path)\n",
        "        if len(doc) > 1:\n",
        "            doc.delete_page(-1)  # Delete last page\n",
        "\n",
        "            # Create a temporary filename\n",
        "            temp_pdf_path = pdf_path.replace(\".pdf\", \"_temp.pdf\")\n",
        "\n",
        "            # Save as a new file\n",
        "            doc.save(temp_pdf_path)\n",
        "            doc.close()\n",
        "\n",
        "            # Replace original file\n",
        "            os.replace(temp_pdf_path, pdf_path)\n",
        "            print(f\"Updated: {pdf_path}\")\n",
        "        else:\n",
        "            print(f\"Skipping {pdf_path}, as it only has one page.\")\n",
        "    except Exception as e:\n",
        "        print(f\"Error processing {pdf_path}: {e}\")\n",
        "\n",
        "# Iterate through the folder and process PDFs\n",
        "for filename in os.listdir(folder_path):\n",
        "    if filename.lower().endswith(\".pdf\"):\n",
        "        pdf_path = os.path.join(folder_path, filename)\n",
        "        remove_last_page(pdf_path)\n",
        "\n",
        "print(\"Processing complete.\")"
      ]
    },
    {
      "cell_type": "code",
      "source": [
        "# Define source and destination folders\n",
        "source_folder = \"/content/drive/My Drive/Portfolio/Novel_RAG_Project/Data/trimmed_BettyNeelsDataset_IA/\"\n",
        "dest_folder = \"/content/drive/My Drive/Portfolio/Novel_RAG_Project/Data/text_BettyNeelsDataset/\"\n",
        "\n",
        "# Ensure destination folder exists\n",
        "os.makedirs(dest_folder, exist_ok=True)\n",
        "\n",
        "def extract_text_from_pdf(pdf_path):\n",
        "    \"\"\"Extracts and cleans text from a given PDF file.\"\"\"\n",
        "    try:\n",
        "        doc = fitz.open(pdf_path)\n",
        "        text = \"\"\n",
        "        for page in doc:\n",
        "            text += page.get_text(\"text\") + \"\\n\"\n",
        "        doc.close()\n",
        "\n",
        "        # Basic cleaning: removing excessive newlines and spaces\n",
        "        cleaned_text = \"\\n\".join([line.strip() for line in text.splitlines() if line.strip()])\n",
        "        return cleaned_text\n",
        "    except Exception as e:\n",
        "        print(f\"Error processing {pdf_path}: {e}\")\n",
        "        return None\n",
        "\n",
        "def process_pdfs():\n",
        "    \"\"\"Processes all PDFs, extracts text, and saves as structured files.\"\"\"\n",
        "    for filename in os.listdir(source_folder):\n",
        "        if filename.lower().endswith(\".pdf\"):\n",
        "            pdf_path = os.path.join(source_folder, filename)\n",
        "            text = extract_text_from_pdf(pdf_path)\n",
        "            if text:\n",
        "                # Define output text file path\n",
        "                text_filename = filename.replace(\".pdf\", \".txt\")\n",
        "                text_path = os.path.join(dest_folder, text_filename)\n",
        "\n",
        "                # Save extracted text\n",
        "                with open(text_path, \"w\", encoding=\"utf-8\") as f:\n",
        "                    f.write(text)\n",
        "\n",
        "                print(f\"Processed and saved: {text_path}\")\n",
        "\n",
        "                # Copy original PDF to new folder\n",
        "                shutil.copy(pdf_path, os.path.join(dest_folder, filename))\n",
        "\n",
        "# Run the processing function\n",
        "process_pdfs()\n",
        "\n",
        "print(\"Processing complete.\")"
      ],
      "metadata": {
        "id": "3BvcEKV3crAN"
      },
      "execution_count": null,
      "outputs": []
    }
  ]
}